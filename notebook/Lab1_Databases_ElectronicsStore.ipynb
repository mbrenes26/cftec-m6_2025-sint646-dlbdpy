{
 "cells": [
  {
   "cell_type": "markdown",
   "id": "5fe65a7a",
   "metadata": {},
   "source": [
    "# Laboratorio 1 – Comparación de Bases de Datos NoSQL (MongoDB, Redis, HBase)\n",
    "\n",
    "**Objetivo:**\n",
    "Este laboratorio tiene como objetivo montar servidores de **MongoDB**, **Redis** y **HBase** en contenedores Docker, y luego interactuar con ellos desde Python para:\n",
    "\n",
    "1. Cargar un dataset real de compras electrónicas.\n",
    "2. Ejecutar consultas específicas en cada base de datos:\n",
    "   - ¿Cuál es la **categoría** más vendida?\n",
    "   - ¿Cuál **marca** generó más ingresos brutos?\n",
    "   - ¿Qué **mes** tuvo más ventas? (en UTC)\n",
    "3. Medir y comparar los tiempos de ejecución entre las tres bases de datos.\n",
    "\n",
    "**Dataset utilizado:**\n",
    "[Ecommerce Purchase History from Electronics Store](https://www.kaggle.com/datasets/mkechinov/ecommerce-purchase-history-from-electronics-store)\n",
    "\n",
    "**Pasos principales:**\n",
    "1. Preparar el entorno de Python en esta máquina virtual.\n",
    "2. Descargar y preparar el dataset.\n",
    "3. Insertar datos en **MongoDB**, **Redis** y **HBase**.\n",
    "4. Ejecutar las consultas en cada base de datos.\n",
    "5. Analizar los tiempos de respuesta.\n",
    "\n",
    "---\n"
   ]
  },
  {
   "cell_type": "code",
   "execution_count": null,
   "id": "d00323f4",
   "metadata": {},
   "outputs": [],
   "source": [
    "# Instalación de librerías necesarias\n",
    "!pip3 install --user pandas pymongo redis happybase thriftpy2 kaggle\n"
   ]
  },
  {
   "cell_type": "markdown",
   "id": "a1b18684",
   "metadata": {},
   "source": [
    "## 📥 Descarga del Dataset desde Kaggle\n",
    "\n",
    "Para trabajar con el dataset real, utilizaremos la API de Kaggle.  \n",
    "Esto requiere que tengamos un **token de acceso** que puedes obtener en tu cuenta de Kaggle:\n",
    "\n",
    "1. Inicia sesión en [Kaggle](https://www.kaggle.com/).\n",
    "2. Ve a **Account** → **Create New API Token**.\n",
    "3. Esto descargará un archivo llamado `kaggle.json`.\n",
    "4. Lo subiremos a esta máquina en la carpeta `~/.kaggle/`.\n",
    "\n",
    "Este archivo contiene:\n",
    "- `username`: tu usuario en Kaggle.\n",
    "- `key`: clave de acceso para autenticación.\n"
   ]
  },
  {
   "cell_type": "code",
   "execution_count": null,
   "id": "b28a0a33",
   "metadata": {},
   "outputs": [],
   "source": [
    "import os\n",
    "\n",
    "# Crear carpeta .kaggle si no existe\n",
    "os.makedirs(os.path.expanduser(\"~/.kaggle\"), exist_ok=True)\n",
    "\n",
    "print(\"✅ Carpeta .kaggle lista. Sube tu archivo kaggle.json a esta ruta en la VM:\")\n",
    "\n",
    "# Mostrar ruta destino\n",
    "print(os.path.expanduser(\"~/.kaggle/kaggle.json\"))\n"
   ]
  },
  {
   "cell_type": "markdown",
   "id": "6321559b",
   "metadata": {},
   "source": [
    "## 🔓 Ajustar permisos y descargar dataset\n",
    "\n",
    "Después de subir el archivo `kaggle.json` a la carpeta `.kaggle/` debemos ajustar los permisos para que sea seguro.  \n",
    "Luego utilizaremos la librería `kaggle` para descargar el dataset directamente en esta máquina.\n",
    "\n",
    "El dataset se guardará en la carpeta `datasets/ecommerce/`.\n"
   ]
  },
  {
   "cell_type": "code",
   "execution_count": null,
   "id": "a836f4c3",
   "metadata": {},
   "outputs": [],
   "source": [
    "# Ajustar permisos del token Kaggle\n",
    "!chmod 600 ~/.kaggle/kaggle.json\n",
    "\n",
    "# Descargar el dataset desde Kaggle\n",
    "!kaggle datasets download -d mkechinov/ecommerce-purchase-history-from-electronics-store -p ./datasets/ecommerce --unzip\n",
    "\n",
    "print(\"✅ Dataset descargado y descomprimido en ./datasets/ecommerce\")\n"
   ]
  },
  {
   "cell_type": "code",
   "execution_count": null,
   "id": "6ce3cb59",
   "metadata": {},
   "outputs": [],
   "source": [
    "import os\n",
    "\n",
    "os.listdir(\"./datasets/ecommerce\")\n"
   ]
  },
  {
   "cell_type": "markdown",
   "id": "2fbd2881",
   "metadata": {},
   "source": [
    "## 📂 Carga y vista previa del Dataset\n",
    "\n",
    "El dataset descargado desde Kaggle contiene información sobre el historial de compras en una tienda de electrónica.  \n",
    "El archivo descargado se llama `kz.csv` y lo cargaremos usando **Pandas** para inspeccionarlo antes de insertarlo en las bases de datos.\n",
    "\n",
    "Pasos:\n",
    "1. Leer el archivo CSV.\n",
    "2. Mostrar las primeras filas para validar el contenido.\n",
    "3. Revisar la estructura de las columnas.\n"
   ]
  },
  {
   "cell_type": "code",
   "execution_count": null,
   "id": "156de00d",
   "metadata": {},
   "outputs": [],
   "source": [
    "import pandas as pd\n",
    "\n",
    "# Ruta al archivo descargado\n",
    "file_path = \"./datasets/ecommerce/kz.csv\"\n",
    "\n",
    "# Cargar el dataset\n",
    "df = pd.read_csv(file_path)\n",
    "\n",
    "# Vista previa de las primeras filas\n",
    "df.head()\n"
   ]
  },
  {
   "cell_type": "markdown",
   "id": "b361e2a3",
   "metadata": {},
   "source": [
    "## 📊 Inspección de la estructura del Dataset\n",
    "\n",
    "Antes de proceder a insertar los datos en las bases de datos, es importante entender su estructura y contenido.\n",
    "\n",
    "Pasos:\n",
    "1. Revisar la información general (`info()`) para conocer número de filas, columnas y tipos de datos.\n",
    "2. Verificar estadísticas descriptivas (`describe()`) para entender rangos y distribución de datos numéricos.\n",
    "3. Detectar posibles valores nulos o faltantes.\n"
   ]
  },
  {
   "cell_type": "code",
   "execution_count": null,
   "id": "420cfbb3",
   "metadata": {},
   "outputs": [],
   "source": [
    "# Información general del dataset\n",
    "print(\"=== Información General del Dataset ===\")\n",
    "print(df.info())\n",
    "\n",
    "# Estadísticas descriptivas de columnas numéricas\n",
    "print(\"\\n=== Estadísticas Descriptivas ===\")\n",
    "print(df.describe())\n",
    "\n",
    "# Conteo de valores nulos por columna\n",
    "print(\"\\n=== Valores Nulos por Columna ===\")\n",
    "print(df.isnull().sum())\n"
   ]
  },
  {
   "cell_type": "markdown",
   "id": "4aacf2b6",
   "metadata": {},
   "source": [
    "## 📥 Inserción de datos en MongoDB\n",
    "\n",
    "Conexión y carga de datos en MongoDB usando `pymongo`.\n",
    "\n",
    "Pasos:\n",
    "1. Conectarse al servidor de MongoDB.\n",
    "2. Seleccionar la base de datos (`ecommerce_db`) y la colección (`purchases`).\n",
    "3. Convertir el DataFrame de Pandas a diccionarios (`to_dict('records')`).\n",
    "4. Insertar los datos con `insert_many()`.\n",
    "\n",
    "> ⚠️ **Nota:** El contenedor MongoDB debe estar corriendo y accesible en el puerto `27017`.\n"
   ]
  },
  {
   "cell_type": "code",
   "execution_count": null,
   "id": "21c56c30",
   "metadata": {},
   "outputs": [],
   "source": [
    "from pymongo import MongoClient\n",
    "\n",
    "# Parámetros de conexión\n",
    "MONGO_USER = \"admin\"  # o \"admin\" si lo configuraste así\n",
    "MONGO_PASS = \"pass\"   # tu clave actual\n",
    "MONGO_HOST = \"localhost\"  # Si está en el mismo servidor que Jupyter\n",
    "MONGO_PORT = 27017\n",
    "\n",
    "# Conexión a MongoDB\n",
    "client = MongoClient(f\"mongodb://{MONGO_USER}:{MONGO_PASS}@{MONGO_HOST}:{MONGO_PORT}/?authSource=admin\")\n",
    "db = client[\"ecommerce_db\"]\n",
    "collection = db[\"purchases\"]\n",
    "\n",
    "# Conversión del DataFrame a lista de diccionarios\n",
    "data_dict = df.to_dict(\"records\")\n",
    "\n",
    "# Inserción en MongoDB\n",
    "result = collection.insert_many(data_dict)\n",
    "print(f\"✅ Insertados {len(result.inserted_ids)} documentos en MongoDB\")\n"
   ]
  }
 ],
 "metadata": {
  "language_info": {
   "name": "python"
  }
 },
 "nbformat": 4,
 "nbformat_minor": 5
}
