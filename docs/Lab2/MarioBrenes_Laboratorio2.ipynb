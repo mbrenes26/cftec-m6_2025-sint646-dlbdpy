{
 "cells": [
  {
   "cell_type": "markdown",
   "id": "16f604be",
   "metadata": {
    "tags": [
     "C02"
    ]
   },
   "source": [
    "# Laboratorio 2: \n",
    "\n",
    "## Implementa una red neuronal MLP para regresión con California Housing. \n",
    "\n",
    "### Incluye:\n",
    "\n",
    "- Limpieza básica (NaN/Inf) y estandarización de X (opcional: y).\n",
    "- 8 experimentos = 2 pérdidas × 2 optimizadores × 2 arquitecturas.\n",
    "- Métricas: MSE y R² en test.\n",
    "- Protecciones anti-divergencia (clipping + chequeos finitos)."
   ]
  },
  {
   "cell_type": "code",
   "execution_count": 38,
   "id": "636d7203",
   "metadata": {
    "tags": [
     "C03"
    ]
   },
   "outputs": [
    {
     "name": "stdout",
     "output_type": "stream",
     "text": [
      "{'torch': '2.4.1+cu121', 'numpy': '1.24.4', 'pandas': '2.0.3', 'device': 'cpu'}\n"
     ]
    }
   ],
   "source": [
    "#C02 · Imports y configuración (Código)\n",
    "# Imports y setup\n",
    "import os, time, math\n",
    "from dataclasses import dataclass\n",
    "from itertools import product\n",
    "\n",
    "import numpy as np\n",
    "import pandas as pd\n",
    "import torch\n",
    "import torch.nn as nn\n",
    "import torch.optim as optim\n",
    "from torch.utils.data import TensorDataset, DataLoader\n",
    "\n",
    "from sklearn.datasets import fetch_california_housing\n",
    "from sklearn.model_selection import train_test_split\n",
    "from sklearn.preprocessing import StandardScaler\n",
    "from sklearn.metrics import mean_squared_error, r2_score\n",
    "\n",
    "import matplotlib.pyplot as plt\n",
    "\n",
    "SEED = 42\n",
    "np.random.seed(SEED)\n",
    "torch.manual_seed(SEED)\n",
    "if torch.cuda.is_available():\n",
    "    torch.cuda.manual_seed_all(SEED)\n",
    "\n",
    "device = torch.device(\"cuda\" if torch.cuda.is_available() else \"cpu\")\n",
    "print({\n",
    "    'torch': torch.__version__,\n",
    "    'numpy': np.__version__,\n",
    "    'pandas': pd.__version__,\n",
    "    'device': str(device)\n",
    "})"
   ]
  },
  {
   "cell_type": "markdown",
   "id": "a143a632",
   "metadata": {
    "tags": [
     "C04"
    ]
   },
   "source": [
    "### Carga de datos\n",
    "\n",
    "Descargamos el dataset como numpy y mostramos formas y nombres de variables."
   ]
  },
  {
   "cell_type": "code",
   "execution_count": 22,
   "id": "e1494552",
   "metadata": {
    "tags": [
     "C05"
    ]
   },
   "outputs": [
    {
     "name": "stdout",
     "output_type": "stream",
     "text": [
      "X shape: (20640, 8) | y shape: (20640,)\n",
      "Features: ['MedInc', 'HouseAge', 'AveRooms', 'AveBedrms', 'Population', 'AveOccup', 'Latitude', 'Longitude']\n",
      "y[:5]: [4.526 3.585 3.521 3.413 3.422]\n"
     ]
    }
   ],
   "source": [
    "# C04 · Carga de datos (Código)\n",
    "cal = fetch_california_housing(as_frame=False)\n",
    "X = cal.data.astype(np.float64)  # mayor precisión al inicio\n",
    "y = cal.target.astype(np.float64)\n",
    "feature_names = cal.feature_names\n",
    "\n",
    "print('X shape:', X.shape, '| y shape:', y.shape)\n",
    "print('Features:', feature_names)\n",
    "print('y[:5]:', y[:5])"
   ]
  },
  {
   "cell_type": "markdown",
   "id": "85299c44",
   "metadata": {
    "tags": [
     "C06"
    ]
   },
   "source": [
    "### Limpieza rápida\n",
    "\n",
    "Chequeo y limpieza de filas con valores no finitos (NaN/Inf). Este dataset normalmente no trae NaN, pero dejamos el guardrail."
   ]
  },
  {
   "cell_type": "code",
   "execution_count": 23,
   "id": "d55e145b",
   "metadata": {
    "tags": [
     "C07"
    ]
   },
   "outputs": [
    {
     "name": "stdout",
     "output_type": "stream",
     "text": [
      "Filas eliminadas por no finitos: 0\n"
     ]
    }
   ],
   "source": [
    "#C06 · Limpieza rápida (Código)\n",
    "mask_X = np.isfinite(X).all(axis=1)\n",
    "mask_y = np.isfinite(y)\n",
    "mask = mask_X & mask_y\n",
    "\n",
    "n_before = X.shape[0]\n",
    "X = X[mask]\n",
    "y = y[mask]\n",
    "n_after = X.shape[0]\n",
    "\n",
    "print(f\"Filas eliminadas por no finitos: {n_before - n_after}\")"
   ]
  },
  {
   "cell_type": "markdown",
   "id": "93cf2305",
   "metadata": {
    "tags": [
     "C08"
    ]
   },
   "source": [
    "### Histograma de y\n",
    "\n",
    "Miramos la distribución del target."
   ]
  },
  {
   "cell_type": "code",
   "execution_count": 24,
   "id": "37e96e31",
   "metadata": {
    "tags": [
     "C09"
    ]
   },
   "outputs": [
    {
     "data": {
      "image/png": "[encoded data removed]",
      "text/plain": [
       "<Figure size 500x300 with 1 Axes>"
      ]
     },
     "metadata": {},
     "output_type": "display_data"
    }
   ],
   "source": [
    "#C08 · Histograma de y (Código)\n",
    "plt.figure(figsize=(5,3))\n",
    "plt.hist(y, bins=40)\n",
    "plt.title('Distribución de y (MedHouseVal)')\n",
    "plt.xlabel('x100k USD')\n",
    "plt.ylabel('Frecuencia')\n",
    "plt.tight_layout()\n",
    "plt.show()"
   ]
  },
  {
   "cell_type": "markdown",
   "id": "8b1a6fcd",
   "metadata": {
    "tags": [
     "C10"
    ]
   },
   "source": [
    "### Split y escalado\n",
    "\n",
    "- Split 80/20 con random_state.\n",
    "- Estandarizamos X (media 0, var 1).\n",
    "- y se deja por defecto en escala original (toggle disponible)."
   ]
  },
  {
   "cell_type": "code",
   "execution_count": 25,
   "id": "9e31e84d",
   "metadata": {
    "tags": [
     "C11"
    ]
   },
   "outputs": [
    {
     "name": "stdout",
     "output_type": "stream",
     "text": [
      "Train: torch.Size([16512, 8]) torch.Size([16512, 1]) | Test: torch.Size([4128, 8]) torch.Size([4128, 1])\n"
     ]
    }
   ],
   "source": [
    "#C10 · Split y escalado (Código)\n",
    "TEST_SIZE = 0.2\n",
    "USE_Y_SCALER = False  # poner True si se desea normalizar y\n",
    "\n",
    "X_train, X_test, y_train, y_test = train_test_split(\n",
    "    X, y, test_size=TEST_SIZE, random_state=SEED)\n",
    "\n",
    "scaler_X = StandardScaler()\n",
    "X_train_s = scaler_X.fit_transform(X_train)\n",
    "X_test_s  = scaler_X.transform(X_test)\n",
    "\n",
    "if USE_Y_SCALER:\n",
    "    scaler_y = StandardScaler()\n",
    "    y_train_s = scaler_y.fit_transform(y_train.reshape(-1,1)).astype(np.float32)\n",
    "    y_test_s  = scaler_y.transform(y_test.reshape(-1,1)).astype(np.float32)\n",
    "else:\n",
    "    scaler_y = None\n",
    "    y_train_s = y_train.reshape(-1,1).astype(np.float32)\n",
    "    y_test_s  = y_test.reshape(-1,1).astype(np.float32)\n",
    "\n",
    "# Tensores\n",
    "X_train_t = torch.tensor(X_train_s, dtype=torch.float32)\n",
    "y_train_t = torch.tensor(y_train_s, dtype=torch.float32)\n",
    "X_test_t  = torch.tensor(X_test_s,  dtype=torch.float32)\n",
    "y_test_t  = torch.tensor(y_test_s,  dtype=torch.float32)\n",
    "\n",
    "print('Train:', X_train_t.shape, y_train_t.shape, '| Test:', X_test_t.shape, y_test_t.shape)"
   ]
  },
  {
   "cell_type": "markdown",
   "id": "5c43227e",
   "metadata": {
    "tags": [
     "C12"
    ]
   },
   "source": [
    "### Modelo MLP\n",
    "\n",
    "MLP con ReLU, salida lineal (1 neurona). Inicialización: Kaiming para capas ocultas y Xavier para la salida (arranque estable)."
   ]
  },
  {
   "cell_type": "code",
   "execution_count": 26,
   "id": "68570331",
   "metadata": {
    "tags": [
     "C13"
    ]
   },
   "outputs": [],
   "source": [
    "#C12 · Modelo MLP (Código)\n",
    "class MLPRegressor(nn.Module):\n",
    "    def __init__(self, input_dim, hidden=(64,), dropout=0.0):\n",
    "        super().__init__()\n",
    "        layers = []\n",
    "        d = input_dim\n",
    "        for h in hidden:\n",
    "            layers += [nn.Linear(d, h), nn.ReLU()]\n",
    "            if dropout > 0:\n",
    "                layers += [nn.Dropout(dropout)]\n",
    "            d = h\n",
    "        layers += [nn.Linear(d, 1)]\n",
    "        self.net = nn.Sequential(*layers)\n",
    "        self.apply(self._init_weights)\n",
    "\n",
    "    @staticmethod\n",
    "    def _init_weights(m):\n",
    "        if isinstance(m, nn.Linear):\n",
    "            if m.out_features == 1:\n",
    "                nn.init.xavier_uniform_(m.weight, gain=1.0)\n",
    "            else:\n",
    "                nn.init.kaiming_normal_(m.weight, nonlinearity='relu')\n",
    "            if m.bias is not None:\n",
    "                nn.init.zeros_(m.bias)\n",
    "\n",
    "    def forward(self, x):\n",
    "        return self.net(x)\n",
    "\n",
    "\n",
    "def count_params(model):\n",
    "    return sum(p.numel() for p in model.parameters() if p.requires_grad)"
   ]
  },
  {
   "cell_type": "markdown",
   "id": "84a0e52d",
   "metadata": {
    "tags": [
     "C14"
    ]
   },
   "source": [
    "### Entrenamiento/Evaluación\n",
    "\n",
    "- Optimizers: Adam y SGD (sin Nesterov, LR más conservador).\n",
    "- Loss: MSE y SmoothL1(beta=1.0).\n",
    "- Clipping de gradiente + chequeos isfinite para evitar divergencia."
   ]
  },
  {
   "cell_type": "code",
   "execution_count": 27,
   "id": "f876911a",
   "metadata": {
    "tags": [
     "C15"
    ]
   },
   "outputs": [],
   "source": [
    "#C14 · Entrenamiento/Evaluación (Código)\n",
    "def make_optimizer(name, params, lr, weight_decay=1e-4, momentum=0.9):\n",
    "    n = name.lower()\n",
    "    if n == 'adam':\n",
    "        return optim.Adam(params, lr=lr, weight_decay=weight_decay)\n",
    "    if n == 'sgd':\n",
    "        return optim.SGD(params, lr=lr, momentum=momentum, nesterov=False, weight_decay=weight_decay)\n",
    "    raise ValueError(f\"Optimizer no soportado: {name}\")\n",
    "\n",
    "\n",
    "def make_loss(name, **kw):\n",
    "    n = name.lower()\n",
    "    if n == 'mse':\n",
    "        return nn.MSELoss()\n",
    "    if n == 'smoothl1':\n",
    "        return nn.SmoothL1Loss(beta=kw.get('beta', 1.0))\n",
    "    raise ValueError(f\"Loss no soportada: {name}\")\n",
    "\n",
    "\n",
    "def train_one(cfg, Xtr, ytr, Xte, yte, scaler_y=None):\n",
    "    model = MLPRegressor(Xtr.shape[1], hidden=cfg.hidden, dropout=cfg.dropout).to(device)\n",
    "    opt = make_optimizer(cfg.optimizer, model.parameters(), lr=cfg.lr,\n",
    "                         weight_decay=cfg.weight_decay, momentum=cfg.momentum)\n",
    "    crit = make_loss(cfg.loss, **(cfg.loss_params or {}))\n",
    "    loader = DataLoader(TensorDataset(Xtr, ytr), batch_size=cfg.batch_size, shuffle=True)\n",
    "\n",
    "    hist = {'epoch': [], 'train_loss': []}\n",
    "    t0 = time.time()\n",
    "    model.train()\n",
    "    for ep in range(1, cfg.epochs+1):\n",
    "        run = 0.0\n",
    "        for xb, yb in loader:\n",
    "            xb, yb = xb.to(device), yb.to(device)\n",
    "            opt.zero_grad(set_to_none=True)\n",
    "            pred = model(xb)\n",
    "            if not torch.isfinite(pred).all():\n",
    "                raise RuntimeError('pred NaN/Inf (divergencia)')\n",
    "            loss = crit(pred, yb)\n",
    "            if not torch.isfinite(loss):\n",
    "                raise RuntimeError('loss NaN/Inf (divergencia)')\n",
    "            loss.backward()\n",
    "            torch.nn.utils.clip_grad_norm_(model.parameters(), max_norm=1.0)\n",
    "            opt.step()\n",
    "            run += loss.item() * xb.size(0)\n",
    "        ep_loss = run / len(loader.dataset)\n",
    "        hist['epoch'].append(ep)\n",
    "        hist['train_loss'].append(ep_loss)\n",
    "        if ep % max(1, cfg.epochs // 5) == 0:\n",
    "            print(f\"[{cfg.loss}/{cfg.optimizer} {cfg.hidden}] ep {ep}/{cfg.epochs} loss={ep_loss:.4f}\")\n",
    "\n",
    "    t_train = time.time() - t0\n",
    "\n",
    "    model.eval()\n",
    "    with torch.no_grad():\n",
    "        yp = model(Xte.to(device)).cpu().numpy().reshape(-1,1)\n",
    "    yt = yte.cpu().numpy().reshape(-1,1)\n",
    "    if scaler_y is not None:\n",
    "        yp = scaler_y.inverse_transform(yp)\n",
    "        yt = scaler_y.inverse_transform(yt)\n",
    "\n",
    "    mse = float(mean_squared_error(yt, yp))\n",
    "    r2  = float(r2_score(yt, yp))\n",
    "\n",
    "    return {'model': model, 'history': hist, 'mse_test': mse, 'r2_test': r2,\n",
    "            'train_time_s': t_train, 'params': count_params(model)}"
   ]
  },
  {
   "cell_type": "markdown",
   "id": "364bc7d0",
   "metadata": {
    "tags": [
     "C16"
    ]
   },
   "source": [
    "### Configuración de experimentos\n",
    "\n",
    "- Dos arquitecturas: [64] y [16, 8]. Dos pérdidas y dos optimizadores.\n",
    "- LR: Adam 1e-3, SGD 1e-2 (más estable).\n",
    "- Orden: primero Adam para asegurar resultados aun si algún SGD diverge."
   ]
  },
  {
   "cell_type": "code",
   "execution_count": 28,
   "id": "9c6e617e",
   "metadata": {
    "tags": [
     "C17"
    ]
   },
   "outputs": [
    {
     "name": "stdout",
     "output_type": "stream",
     "text": [
      "1 ExpConfig(hidden=(64,), loss='mse', optimizer='adam', lr=0.001, batch_size=128, epochs=40, weight_decay=0.0001, momentum=0.9, dropout=0.0, loss_params=None)\n",
      "2 ExpConfig(hidden=(64,), loss='mse', optimizer='sgd', lr=0.01, batch_size=128, epochs=40, weight_decay=0.0001, momentum=0.9, dropout=0.0, loss_params=None)\n",
      "3 ExpConfig(hidden=(64,), loss='smoothl1', optimizer='adam', lr=0.001, batch_size=128, epochs=40, weight_decay=0.0001, momentum=0.9, dropout=0.0, loss_params=None)\n",
      "4 ExpConfig(hidden=(64,), loss='smoothl1', optimizer='sgd', lr=0.01, batch_size=128, epochs=40, weight_decay=0.0001, momentum=0.9, dropout=0.0, loss_params=None)\n",
      "5 ExpConfig(hidden=(16, 8), loss='mse', optimizer='adam', lr=0.001, batch_size=128, epochs=40, weight_decay=0.0001, momentum=0.9, dropout=0.0, loss_params=None)\n",
      "6 ExpConfig(hidden=(16, 8), loss='mse', optimizer='sgd', lr=0.01, batch_size=128, epochs=40, weight_decay=0.0001, momentum=0.9, dropout=0.0, loss_params=None)\n",
      "7 ExpConfig(hidden=(16, 8), loss='smoothl1', optimizer='adam', lr=0.001, batch_size=128, epochs=40, weight_decay=0.0001, momentum=0.9, dropout=0.0, loss_params=None)\n",
      "8 ExpConfig(hidden=(16, 8), loss='smoothl1', optimizer='sgd', lr=0.01, batch_size=128, epochs=40, weight_decay=0.0001, momentum=0.9, dropout=0.0, loss_params=None)\n"
     ]
    }
   ],
   "source": [
    "#C16 · Configuración de experimentos (Código)\n",
    "@dataclass\n",
    "class ExpConfig:\n",
    "    hidden: tuple\n",
    "    loss: str\n",
    "    optimizer: str\n",
    "    lr: float\n",
    "    batch_size: int\n",
    "    epochs: int\n",
    "    weight_decay: float = 1e-4\n",
    "    momentum: float = 0.9\n",
    "    dropout: float = 0.0\n",
    "    loss_params: dict = None\n",
    "\n",
    "hidden_grid = [(64,), (16, 8)]\n",
    "loss_grid   = ['mse', 'smoothl1']\n",
    "opt_grid    = ['adam', 'sgd']\n",
    "\n",
    "base = dict(batch_size=128, epochs=40, weight_decay=1e-4, momentum=0.9, dropout=0.0)\n",
    "\n",
    "configs = []\n",
    "for h in hidden_grid:\n",
    "    for loss in loss_grid:\n",
    "        for opt in opt_grid:\n",
    "            lr = 0.01 if opt == 'sgd' else 0.001\n",
    "            configs.append(ExpConfig(hidden=h, loss=loss, optimizer=opt, lr=lr, **base))\n",
    "\n",
    "for i, c in enumerate(configs, 1):\n",
    "    print(i, c)"
   ]
  },
  {
   "cell_type": "markdown",
   "id": "55515b72",
   "metadata": {
    "tags": [
     "C18"
    ]
   },
   "source": [
    "### Ejecución\n",
    "\n",
    "Corremos los 8 experimentos con try/except. Si un experimento diverge, se registra como NaN y se continúa."
   ]
  },
  {
   "cell_type": "code",
   "execution_count": 29,
   "id": "bf52fcb2",
   "metadata": {
    "tags": [
     "C19"
    ]
   },
   "outputs": [
    {
     "name": "stdout",
     "output_type": "stream",
     "text": [
      "================================================================================\n",
      "Experimento 1/8 -> hidden=(64,), loss=mse, opt=adam, lr=0.001\n",
      "[mse/adam (64,)] ep 8/40 loss=0.4153\n",
      "[mse/adam (64,)] ep 16/40 loss=0.3745\n",
      "[mse/adam (64,)] ep 24/40 loss=0.3545\n",
      "[mse/adam (64,)] ep 32/40 loss=0.3406\n",
      "[mse/adam (64,)] ep 40/40 loss=0.3298\n",
      "================================================================================\n",
      "Experimento 2/8 -> hidden=(64,), loss=mse, opt=sgd, lr=0.01\n",
      "[mse/sgd (64,)] ep 8/40 loss=0.3959\n",
      "[mse/sgd (64,)] ep 16/40 loss=0.3725\n",
      "[mse/sgd (64,)] ep 24/40 loss=0.3655\n",
      "[mse/sgd (64,)] ep 32/40 loss=0.3636\n",
      "[mse/sgd (64,)] ep 40/40 loss=0.3376\n",
      "================================================================================\n",
      "Experimento 3/8 -> hidden=(64,), loss=smoothl1, opt=adam, lr=0.001\n",
      "[smoothl1/adam (64,)] ep 8/40 loss=0.1756\n",
      "[smoothl1/adam (64,)] ep 16/40 loss=0.1597\n",
      "[smoothl1/adam (64,)] ep 24/40 loss=0.1529\n",
      "[smoothl1/adam (64,)] ep 32/40 loss=0.1475\n",
      "[smoothl1/adam (64,)] ep 40/40 loss=0.1432\n",
      "================================================================================\n",
      "Experimento 4/8 -> hidden=(64,), loss=smoothl1, opt=sgd, lr=0.01\n",
      "[smoothl1/sgd (64,)] ep 8/40 loss=0.1856\n",
      "[smoothl1/sgd (64,)] ep 16/40 loss=0.1663\n",
      "[smoothl1/sgd (64,)] ep 24/40 loss=0.1601\n",
      "[smoothl1/sgd (64,)] ep 32/40 loss=0.1524\n",
      "[smoothl1/sgd (64,)] ep 40/40 loss=0.1478\n",
      "================================================================================\n",
      "Experimento 5/8 -> hidden=(16, 8), loss=mse, opt=adam, lr=0.001\n",
      "[mse/adam (16, 8)] ep 8/40 loss=0.4004\n",
      "[mse/adam (16, 8)] ep 16/40 loss=0.3639\n",
      "[mse/adam (16, 8)] ep 24/40 loss=0.3462\n",
      "[mse/adam (16, 8)] ep 32/40 loss=0.3338\n",
      "[mse/adam (16, 8)] ep 40/40 loss=0.3215\n",
      "================================================================================\n",
      "Experimento 6/8 -> hidden=(16, 8), loss=mse, opt=sgd, lr=0.01\n",
      "[mse/sgd (16, 8)] ep 8/40 loss=0.3716\n",
      "[mse/sgd (16, 8)] ep 16/40 loss=0.3394\n",
      "[mse/sgd (16, 8)] ep 24/40 loss=0.3276\n",
      "[mse/sgd (16, 8)] ep 32/40 loss=0.3192\n",
      "[mse/sgd (16, 8)] ep 40/40 loss=0.3148\n",
      "================================================================================\n",
      "Experimento 7/8 -> hidden=(16, 8), loss=smoothl1, opt=adam, lr=0.001\n",
      "[smoothl1/adam (16, 8)] ep 8/40 loss=0.1906\n",
      "[smoothl1/adam (16, 8)] ep 16/40 loss=0.1665\n",
      "[smoothl1/adam (16, 8)] ep 24/40 loss=0.1542\n",
      "[smoothl1/adam (16, 8)] ep 32/40 loss=0.1485\n",
      "[smoothl1/adam (16, 8)] ep 40/40 loss=0.1443\n",
      "================================================================================\n",
      "Experimento 8/8 -> hidden=(16, 8), loss=smoothl1, opt=sgd, lr=0.01\n",
      "[smoothl1/sgd (16, 8)] ep 8/40 loss=0.1898\n",
      "[smoothl1/sgd (16, 8)] ep 16/40 loss=0.1683\n",
      "[smoothl1/sgd (16, 8)] ep 24/40 loss=0.1580\n",
      "[smoothl1/sgd (16, 8)] ep 32/40 loss=0.1519\n",
      "[smoothl1/sgd (16, 8)] ep 40/40 loss=0.1462\n",
      "\n",
      "Resultados (sin ordenar):\n",
      "   exp   hidden      loss   opt     lr  batch  epochs  params  mse_test  \\\n",
      "0    1    (64,)       mse  adam  0.001    128      40     641  0.348311   \n",
      "1    2    (64,)       mse   sgd  0.010    128      40     641  0.405586   \n",
      "2    3    (64,)  smoothl1  adam  0.001    128      40     641  0.344848   \n",
      "3    4    (64,)  smoothl1   sgd  0.010    128      40     641  0.343579   \n",
      "4    5  (16, 8)       mse  adam  0.001    128      40     289  0.329654   \n",
      "5    6  (16, 8)       mse   sgd  0.010    128      40     289  0.307055   \n",
      "6    7  (16, 8)  smoothl1  adam  0.001    128      40     289  0.346538   \n",
      "7    8  (16, 8)  smoothl1   sgd  0.010    128      40     289  0.349446   \n",
      "\n",
      "    r2_test     time_s  \n",
      "0  0.734196  32.603229  \n",
      "1  0.690489  32.007041  \n",
      "2  0.736839  33.812518  \n",
      "3  0.737808  32.740187  \n",
      "4  0.748434  33.412210  \n",
      "5  0.765680  29.403615  \n",
      "6  0.735550  33.307615  \n",
      "7  0.733331  29.324462  \n"
     ]
    }
   ],
   "source": [
    "#C18 · Ejecución (Código)\n",
    "results = []\n",
    "best = None\n",
    "\n",
    "scaler_y_used = scaler_y if USE_Y_SCALER else None\n",
    "\n",
    "for i, cfg in enumerate(configs, 1):\n",
    "    print('='*80)\n",
    "    print(f'Experimento {i}/8 -> hidden={cfg.hidden}, loss={cfg.loss}, opt={cfg.optimizer}, lr={cfg.lr}')\n",
    "    try:\n",
    "        out = train_one(cfg, X_train_t, y_train_t, X_test_t, y_test_t, scaler_y=scaler_y_used)\n",
    "        row = {\n",
    "            'exp': i, 'hidden': str(cfg.hidden), 'loss': cfg.loss, 'opt': cfg.optimizer,\n",
    "            'lr': cfg.lr, 'batch': cfg.batch_size, 'epochs': cfg.epochs,\n",
    "            'params': out['params'], 'mse_test': out['mse_test'], 'r2_test': out['r2_test'],\n",
    "            'time_s': out['train_time_s']\n",
    "        }\n",
    "        # mejor por MSE\n",
    "        if best is None or row['mse_test'] < best['mse_test']:\n",
    "            best = {**row, 'model': out['model'], 'history': out['history']}\n",
    "    except Exception as e:\n",
    "        print(f'  ⛔ Divergencia o error: {e}')\n",
    "        row = {'exp': i, 'hidden': str(cfg.hidden), 'loss': cfg.loss, 'opt': cfg.optimizer,\n",
    "               'lr': cfg.lr, 'batch': cfg.batch_size, 'epochs': cfg.epochs, 'params': np.nan,\n",
    "               'mse_test': np.nan, 'r2_test': np.nan, 'time_s': np.nan}\n",
    "    results.append(row)\n",
    "\n",
    "results_df = pd.DataFrame(results)\n",
    "print('\\nResultados (sin ordenar):')\n",
    "print(results_df)"
   ]
  },
  {
   "cell_type": "markdown",
   "id": "d46b01a8",
   "metadata": {
    "tags": [
     "C20"
    ]
   },
   "source": [
    "### Gráficos\n",
    "\n",
    "Barras de MSE (menor mejor) y R² (mayor mejor) en test."
   ]
  },
  {
   "cell_type": "code",
   "execution_count": 30,
   "id": "27411115",
   "metadata": {
    "tags": [
     "C21"
    ]
   },
   "outputs": [
    {
     "data": {
      "image/png": "[encoded data removed]",
      "text/plain": [
       "<Figure size 800x400 with 1 Axes>"
      ]
     },
     "metadata": {},
     "output_type": "display_data"
    },
    {
     "data": {
      "image/png": "[encoded data removed]",
      "text/plain": [
       "<Figure size 800x400 with 1 Axes>"
      ]
     },
     "metadata": {},
     "output_type": "display_data"
    }
   ],
   "source": [
    "#C20 · Gráficos (Código)\n",
    "# Evitar NaN en plots\n",
    "plot_df = results_df.dropna(subset=['mse_test', 'r2_test']).sort_values('exp')\n",
    "\n",
    "plt.figure(figsize=(8,4))\n",
    "plt.bar(plot_df['exp'].astype(str), plot_df['mse_test'])\n",
    "plt.title('MSE en test por experimento')\n",
    "plt.xlabel('Experimento')\n",
    "plt.ylabel('MSE')\n",
    "plt.tight_layout(); plt.show()\n",
    "\n",
    "plt.figure(figsize=(8,4))\n",
    "plt.bar(plot_df['exp'].astype(str), plot_df['r2_test'])\n",
    "plt.title('R² en test por experimento')\n",
    "plt.xlabel('Experimento')\n",
    "plt.ylabel('R²')\n",
    "plt.tight_layout(); plt.show()"
   ]
  },
  {
   "cell_type": "markdown",
   "id": "94fcdcb3",
   "metadata": {
    "tags": [
     "C22"
    ]
   },
   "source": [
    "### Curva del mejor modelo\n",
    "\n",
    "Curva de pérdida de entrenamiento del mejor por MSE."
   ]
  },
  {
   "cell_type": "code",
   "execution_count": 31,
   "id": "6dfe3eda",
   "metadata": {
    "tags": [
     "C23"
    ]
   },
   "outputs": [
    {
     "data": {
      "image/png": "[encoded data removed]",
      "text/plain": [
       "<Figure size 600x400 with 1 Axes>"
      ]
     },
     "metadata": {},
     "output_type": "display_data"
    }
   ],
   "source": [
    "#C22 · Curva del mejor modelo (Código)\n",
    "if best is not None and isinstance(best.get('model', None), nn.Module):\n",
    "    h = best['history']\n",
    "    plt.figure(figsize=(6,4))\n",
    "    plt.plot(h['epoch'], h['train_loss'], marker='o')\n",
    "    ttl = f\"Best exp #{best['exp']} ({best['loss']}/{best['opt']}, hidden={best['hidden']})\"\n",
    "    plt.title(f'Curva de pérdida — {ttl}')\n",
    "    plt.xlabel('Época'); plt.ylabel('Train Loss'); plt.grid(True)\n",
    "    plt.tight_layout(); plt.show()\n",
    "else:\n",
    "    print('No hay mejor modelo válido (todos fallaron).')"
   ]
  },
  {
   "cell_type": "markdown",
   "id": "c53ec6f3",
   "metadata": {
    "tags": [
     "C24"
    ]
   },
   "source": [
    "### Guardado opcional\n",
    "\n",
    "Guardamos pesos del mejor modelo y scaler_X (y scaler_y si se usó)."
   ]
  },
  {
   "cell_type": "code",
   "execution_count": 32,
   "id": "da9af3cf",
   "metadata": {
    "tags": [
     "C25"
    ]
   },
   "outputs": [
    {
     "name": "stdout",
     "output_type": "stream",
     "text": [
      "Guardado en artifacts/.\n"
     ]
    }
   ],
   "source": [
    "#C24 · Guardado opcional (Código)\n",
    "if best is not None and isinstance(best.get('model', None), nn.Module):\n",
    "    os.makedirs('artifacts', exist_ok=True)\n",
    "    torch.save(best['model'].state_dict(), 'artifacts/best_mlp_regressor.pt')\n",
    "    import pickle\n",
    "    with open('artifacts/scaler_X.pkl', 'wb') as f:\n",
    "        pickle.dump(scaler_X, f)\n",
    "    if USE_Y_SCALER:\n",
    "        with open('artifacts/scaler_y.pkl', 'wb') as f:\n",
    "            pickle.dump(scaler_y, f)\n",
    "    print('Guardado en artifacts/.')\n",
    "else:\n",
    "    print('No se guardó modelo (no hubo best).')"
   ]
  },
  {
   "cell_type": "markdown",
   "id": "90cd7232",
   "metadata": {
    "tags": [
     "C26"
    ]
   },
   "source": [
    "### Tabla final y guía de interpretación\n",
    "\n",
    "Revise results_df (MSE y R²). Compare por pérdida, optimizador y arquitectura."
   ]
  },
  {
   "cell_type": "code",
   "execution_count": 33,
   "id": "ff453ab7",
   "metadata": {
    "scrolled": true,
    "tags": [
     "C27"
    ]
   },
   "outputs": [
    {
     "name": "stdout",
     "output_type": "stream",
     "text": [
      "   exp   hidden      loss   opt     lr  batch  epochs  params  mse_test  \\\n",
      "5    6  (16, 8)       mse   sgd  0.010    128      40     289  0.307055   \n",
      "4    5  (16, 8)       mse  adam  0.001    128      40     289  0.329654   \n",
      "3    4    (64,)  smoothl1   sgd  0.010    128      40     641  0.343579   \n",
      "2    3    (64,)  smoothl1  adam  0.001    128      40     641  0.344848   \n",
      "6    7  (16, 8)  smoothl1  adam  0.001    128      40     289  0.346538   \n",
      "0    1    (64,)       mse  adam  0.001    128      40     641  0.348311   \n",
      "7    8  (16, 8)  smoothl1   sgd  0.010    128      40     289  0.349446   \n",
      "1    2    (64,)       mse   sgd  0.010    128      40     641  0.405586   \n",
      "\n",
      "    r2_test     time_s  \n",
      "5  0.765680  29.403615  \n",
      "4  0.748434  33.412210  \n",
      "3  0.737808  32.740187  \n",
      "2  0.736839  33.812518  \n",
      "6  0.735550  33.307615  \n",
      "0  0.734196  32.603229  \n",
      "7  0.733331  29.324462  \n",
      "1  0.690489  32.007041  \n"
     ]
    }
   ],
   "source": [
    "#C26 · Tabla final (Código)\n",
    "cols = ['exp','hidden','loss','opt','lr','batch','epochs','params','mse_test','r2_test','time_s']\n",
    "print(results_df[cols].sort_values(['mse_test','r2_test']))"
   ]
  },
  {
   "cell_type": "markdown",
   "id": "910794f3",
   "metadata": {
    "tags": [
     "C28"
    ]
   },
   "source": [
    "1) Preprocesamiento: pasos y justificación\n",
    "\n",
    "Dataset: California Housing (20,640 filas, 8 features, target MedHouseVal).\n",
    "\n",
    "Limpieza: filtro de filas con no finitos (NaN/Inf) tanto en X como en y. El dataset no trae NaN por defecto, pero el guardrail evita fallos en métricas y entrenamiento.\n",
    "\n",
    "Split: 80/20 con random_state=42 para reproducibilidad.\n",
    "\n",
    "Estandarización de X: StandardScaler() a X_train y X_test. Justificación: MLP con ReLU + optimizadores basados en gradiente convergen más estable y rápido con features de media 0 y varianza 1.\n",
    "\n",
    "Escalado de y: por defecto no (toggle disponible). Mantener y en escala original facilita interpretar MSE en unidades del target. Si se activa, las métricas en test se invierten al espacio original con el scaler_y.\n",
    "\n",
    "Seeds: numpy/torch a 42 (reproducibilidad).\n",
    "\n",
    "Anti-divergencia: clipping de gradiente (‖g‖≤1) + chequeos isfinite() en pred y loss para detener si aparece NaN/Inf."
   ]
  },
  {
   "cell_type": "markdown",
   "id": "961ae850",
   "metadata": {
    "tags": [
     "C29"
    ]
   },
   "source": [
    "2) Arquitectura y justificación\n",
    "\n",
    "Modelo: MLPRegressor(input_dim=8, hidden, dropout=0.0) con activaciones ReLU y salida lineal (1 neurona).\n",
    "\n",
    "Inicialización: Kaiming para capas con ReLU y Xavier en la capa de salida → arranque estable.\n",
    "\n",
    "Arquitecturas probadas: (64,) y (16, 8) para contrastar una capa ancha vs. dos capas pequeñas (sesgo-capacidad-regularización)."
   ]
  },
  {
   "cell_type": "markdown",
   "id": "f934402f",
   "metadata": {
    "tags": [
     "C30"
    ]
   },
   "source": [
    "3) Hiperparámetros y justificación\n",
    "\n",
    "Pérdida: MSELoss y SmoothL1Loss(beta=1.0).\n",
    "\n",
    "MSE: óptima para regresión cuando no hay outliers pesados.\n",
    "\n",
    "SmoothL1: más robusta a outliers; útil como contraste.\n",
    "\n",
    "Optimizadores: Adam y SGD (momentum 0.9, sin Nesterov).\n",
    "\n",
    "Adam (lr=1e-3): buen default y estable al inicio.\n",
    "\n",
    "SGD (lr=1e-2): requiere LR mayor; con features estandarizadas suele alcanzar buen generalization gap.\n",
    "\n",
    "Batch size: 128 → compromiso entre ruido de gradiente y throughput.\n",
    "\n",
    "Epochs: 40 → suficiente para ver convergencia de pérdidas; evita sobreentrenar.\n",
    "\n",
    "Weight decay: 1e-4 → regularización L2 ligera, reduce sobreajuste.\n",
    "\n",
    "Dropout: 0.0 → dataset no es muy grande, L2 + normalización fueron suficientes; se deja como knob."
   ]
  },
  {
   "cell_type": "markdown",
   "id": "317a580a",
   "metadata": {
    "tags": [
     "C31"
    ]
   },
   "source": [
    "4) Protocolo de experimentación\n",
    "\n",
    "8 experimentos = 2 pérdidas × 2 optimizadores × 2 arquitecturas.\n",
    "Se entrena en train y se evalúa en test con MSE y R². Si un experimento diverge, se captura y se sigue con el resto (no ocurrió tras los guardrails)."
   ]
  },
  {
   "cell_type": "markdown",
   "id": "10849dd8",
   "metadata": {
    "tags": [
     "C32"
    ]
   },
   "source": [
    "# 5) Resultados (test)\n",
    "\n",
    "Tabla resumida de 8 corridas (menor MSE es mejor, mayor R^2 es mejor):\n",
    "\n",
    "| Exp | Hidden   | Loss    | Opt  | LR    | Params | MSE_test | R2_test | Time (s) |\n",
    "|-----|----------|---------|------|-------|--------|----------|---------|----------|\n",
    "| 1   | (64,)    | MSE     | Adam | 0.001 | 641    | 0.3483   | 0.7342  | 32.60    |\n",
    "| 2   | (64,)    | MSE     | SGD  | 0.01  | 641    | 0.4056   | 0.6905  | 32.01    |\n",
    "| 3   | (64,)    | SmoothL1| Adam | 0.001 | 641    | 0.3448   | 0.7368  | 33.81    |\n",
    "| 4   | (64,)    | SmoothL1| SGD  | 0.01  | 641    | 0.3436   | 0.7378  | 32.74    |\n",
    "| 5   | (16, 8)  | MSE     | Adam | 0.001 | 289    | 0.3297   | 0.7484  | 33.41    |\n",
    "| 6   | (16, 8)  | MSE     | SGD  | 0.01  | 289    | **0.3071** | **0.7657** | 29.40    |\n",
    "| 7   | (16, 8)  | SmoothL1| Adam | 0.001 | 289    | 0.3465   | 0.7356  | 33.31    |\n",
    "| 8   | (16, 8)  | SmoothL1| SGD  | 0.01  | 289    | 0.3494   | 0.7333  | 29.32    |\n",
    "\n",
    "**Mejor modelo (segun MSE y R^2):** Exp 6 -> hidden=(16, 8), Loss=MSE, Opt=SGD (lr=0.01), Params=289, MSE=0.3071, R^2=0.7657.\n",
    "\n"
   ]
  },
  {
   "cell_type": "markdown",
   "id": "8b1e2518",
   "metadata": {
    "tags": [
     "C33"
    ]
   },
   "source": [
    "6) Análisis e interpretación\n",
    "\n",
    "Arquitectura: La red pequeña (16, 8) superó a (64,). Esto sugiere que, con features bien estandarizados y dataset de tamaño medio, capacidad moderada + regularización leve (L2) generaliza mejor que una capa ancha.\n",
    "\n",
    "Pérdidas: En este conjunto, MSE rindió ligeramente mejor que SmoothL1. Indica ausencia de outliers severos en y tras el split.\n",
    "\n",
    "Optimizador: SGD (0.01) obtuvo el mejor puntaje. Con escalado de X, momentum y LR conservador, alcanza buen mínimo y suele generalizar un poco mejor que Adam en problemas tabulares simples. Adam fue estable y competitivo pero 1–2 puntos de R² por debajo en el best-case.\n",
    "\n",
    "Tiempo y parámetros: El mejor modelo también es el más pequeño (289 params) y de los más rápidos (~29 s). Relación eficiencia ↔ desempeño favorable.\n",
    "\n",
    "Learning curves (observadas en logs): pérdidas monótonas decrecientes sin signos de divergencia, confirmando que LR y clipping fueron adecuados."
   ]
  },
  {
   "cell_type": "markdown",
   "id": "b30913d5",
   "metadata": {
    "tags": [
     "C34"
    ]
   },
   "source": [
    "7) Conclusiones\n",
    "\n",
    "Para California Housing, un MLP compacto con (16, 8) + MSE + SGD (0.01) entrega el mejor trade-off (MSE≈0.307, R²≈0.766).\n",
    "\n",
    "La estandarización de X es crítica; el pipeline con guardrails (clipping + isfinite) evita fallos numéricos.\n",
    "\n",
    "SmoothL1 no aportó ventaja en este dataset; MSE queda como recomendación por defecto.\n",
    "\n",
    "Adam es buena elección si se quiere convergencia rápida y estable; SGD ganó levemente en generalización."
   ]
  },
  {
   "cell_type": "markdown",
   "id": "34a386ad",
   "metadata": {
    "tags": [
     "C35"
    ]
   },
   "source": [
    "## Bibliografía / documentación técnica\n",
    "\n",
    "PyTorch — torch.nn, torch.optim, inicialización Kaiming.\n",
    "- https://pytorch.org/docs/stable/nn.html\n",
    "- https://pytorch.org/docs/stable/optim.html\n",
    "- https://pytorch.org/docs/stable/nn.init.html\n",
    "\n",
    "scikit-learn — fetch_california_housing, StandardScaler, mean_squared_error, r2_score.\n",
    "- https://scikit-learn.org/stable/modules/generated/sklearn.datasets.fetch_california_housing.html\n",
    "- https://scikit-learn.org/stable/modules/generated/sklearn.preprocessing.StandardScaler.html\n",
    "- https://scikit-learn.org/stable/modules/generated/sklearn.metrics.mean_squared_error.html\n",
    "- https://scikit-learn.org/stable/modules/generated/sklearn.metrics.r2_score.html\n",
    "\n",
    "\n",
    "- El diseño del MLPRegressor y los loops de entrenamiento/evaluación son de elaboración propia. Se consultó la documentación oficial de PyTorch y scikit-learn (ver referencias).”\n",
    "\n",
    "- Para la estructura general del pipeline intente alinearlo con el estilo del repositorio del profesor; no se reutilizó código literal salvo donde se indique explícitamente como Adaptado.”"
   ]
  }
 ],
 "metadata": {
  "celltoolbar": "Tags",
  "kernelspec": {
   "display_name": "Python 3 (ipykernel)",
   "language": "python",
   "name": "python3"
  },
  "language_info": {
   "codemirror_mode": {
    "name": "ipython",
    "version": 3
   },
   "file_extension": ".py",
   "mimetype": "text/x-python",
   "name": "python",
   "nbconvert_exporter": "python",
   "pygments_lexer": "ipython3",
   "version": "3.8.10"
  }
 },
 "nbformat": 4,
 "nbformat_minor": 5
}
